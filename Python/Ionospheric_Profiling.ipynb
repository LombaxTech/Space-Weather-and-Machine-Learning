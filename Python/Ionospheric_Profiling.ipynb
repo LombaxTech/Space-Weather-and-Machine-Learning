{
 "cells": [
  {
   "cell_type": "code",
   "execution_count": 1,
   "metadata": {},
   "outputs": [],
   "source": [
    "from netCDF4 import Dataset\n",
    "import numpy as np\n",
    "from matplotlib import pyplot as plt\n",
    "from numpy import trapz"
   ]
  },
  {
   "cell_type": "code",
   "execution_count": 2,
   "metadata": {},
   "outputs": [
    {
     "data": {
      "text/plain": [
       "dict_keys(['MSL_alt', 'GEO_lat', 'GEO_lon', 'OCC_azi', 'TEC_cal', 'ELEC_dens'])"
      ]
     },
     "execution_count": 2,
     "metadata": {},
     "output_type": "execute_result"
    }
   ],
   "source": [
    "data = Dataset(\"./UCAR_DATA/ionPrf_C001.2014.120.00.13.G17_2013.3520_nc\")\n",
    "data.variables.keys()"
   ]
  },
  {
   "cell_type": "code",
   "execution_count": 3,
   "metadata": {},
   "outputs": [
    {
     "data": {
      "text/plain": [
       "74.23439816182334"
      ]
     },
     "execution_count": 3,
     "metadata": {},
     "output_type": "execute_result"
    }
   ],
   "source": [
    "data.tec0\n",
    "data.botlat\n",
    "# data.toplat\n",
    "# data.botlon\n",
    "# data.toplon\n",
    "# data.botlon - data.toplon  "
   ]
  },
  {
   "cell_type": "code",
   "execution_count": 4,
   "metadata": {},
   "outputs": [],
   "source": [
    "def kmToM(n):\n",
    "        return n * 1000\n",
    "    \n",
    "def toM3(n):\n",
    "    return n * 1e6"
   ]
  },
  {
   "cell_type": "code",
   "execution_count": 5,
   "metadata": {},
   "outputs": [],
   "source": [
    "TEC_cal = data.variables['TEC_cal'][:].data\n",
    "GEO_lat = data.variables['GEO_lat'][:].data\n",
    "GEO_lon = data.variables['GEO_lon'][:].data\n",
    "ELEC_dens = data.variables['ELEC_dens'][:].data\n",
    "MSL_alt = data.variables['MSL_alt'][:].data\n",
    "\n",
    "MSL_alt = kmToM(MSL_alt)\n",
    "ELEC_dens = toM3(ELEC_dens)"
   ]
  },
  {
   "cell_type": "code",
   "execution_count": 6,
   "metadata": {},
   "outputs": [
    {
     "data": {
      "image/png": "[encoded data removed]",
      "text/plain": [
       "<Figure size 432x288 with 1 Axes>"
      ]
     },
     "metadata": {
      "needs_background": "light"
     },
     "output_type": "display_data"
    }
   ],
   "source": [
    "# plt.plot(ELEC_dens, MSL_alt, color=\"c\")\n",
    "plt.plot(MSL_alt,ELEC_dens,  color=\"c\")\n",
    "plt.xlabel(\"Electron Density el/m^3\")\n",
    "plt.ylabel(\"Altitude Above Sea Level m\")\n",
    "plt.show()\n",
    "# intergrate this, intergal of this represents TEC "
   ]
  },
  {
   "cell_type": "code",
   "execution_count": 7,
   "metadata": {},
   "outputs": [
    {
     "data": {
      "text/plain": [
       "1.6301906e+17"
      ]
     },
     "execution_count": 7,
     "metadata": {},
     "output_type": "execute_result"
    }
   ],
   "source": [
    "# convert distances to m \n",
    "trapz(ELEC_dens, MSL_alt)"
   ]
  },
  {
   "cell_type": "code",
   "execution_count": 8,
   "metadata": {},
   "outputs": [
    {
     "data": {
      "text/plain": [
       "-1.34056856e+17"
      ]
     },
     "execution_count": 8,
     "metadata": {},
     "output_type": "execute_result"
    }
   ],
   "source": [
    "trapz(MSL_alt, ELEC_dens )"
   ]
  }
 ],
 "metadata": {
  "kernelspec": {
   "display_name": "Python 3",
   "language": "python",
   "name": "python3"
  },
  "language_info": {
   "codemirror_mode": {
    "name": "ipython",
    "version": 3
   },
   "file_extension": ".py",
   "mimetype": "text/x-python",
   "name": "python",
   "nbconvert_exporter": "python",
   "pygments_lexer": "ipython3",
   "version": "3.8.5"
  }
 },
 "nbformat": 4,
 "nbformat_minor": 4
}
